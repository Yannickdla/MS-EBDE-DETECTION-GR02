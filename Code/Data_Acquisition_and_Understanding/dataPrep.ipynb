{
  "cells": [
    {
      "cell_type": "code",
      "execution_count": 1,
      "metadata": {
        "id": "obOm-KbNBznm"
      },
      "outputs": [
        {
          "name": "stderr",
          "output_type": "stream",
          "text": [
            "C:\\Users\\natha\\AppData\\Local\\Temp\\ipykernel_24076\\1342185436.py:29: DeprecationWarning: Importing display from IPython.core.display is deprecated since IPython 7.14, please import from IPython display\n",
            "  from IPython.core.display import display, HTML\n"
          ]
        }
      ],
      "source": [
        "import json\n",
        "import os\n",
        "import pandas as pd\n",
        "import numpy as np\n",
        "from flatten_dict import flatten\n",
        "import seaborn as sns\n",
        "import matplotlib.pyplot as plt\n",
        "import matplotlib.dates as mdates\n",
        "import calendar\n",
        "import warnings\n",
        "from scipy.sparse import hstack,csr_matrix\n",
        "from sklearn.preprocessing import OneHotEncoder\n",
        "from sklearn.feature_extraction.text import TfidfVectorizer\n",
        "import hdbscan\n",
        "from sklearn.manifold import TSNE\n",
        "import matplotlib.pyplot as plt\n",
        "import seaborn as sns\n",
        "from bayes_opt import BayesianOptimization\n",
        "from sklearn.metrics import silhouette_score\n",
        "from sklearn.ensemble import IsolationForest\n",
        "from itertools import combinations\n",
        "from collections import Counter\n",
        "import networkx as nx\n",
        "import matplotlib.colors as mcolors\n",
        "import ast\n",
        "from networkx.algorithms import bipartite\n",
        "from community import community_louvain\n",
        "from pyvis.network import Network\n",
        "from IPython.core.display import display, HTML\n",
        "from sklearn.pipeline import Pipeline\n",
        "from sklearn.preprocessing import MinMaxScaler\n",
        "from sklearn.compose import ColumnTransformer\n",
        "import category_encoders as ce\n",
        "warnings.filterwarnings('ignore')"
      ]
    },
    {
      "cell_type": "markdown",
      "metadata": {
        "id": "-mTbmKIjccaq"
      },
      "source": [
        "**extract_tweet_hashtag**\n",
        "\n",
        "---\n",
        "\n",
        "\n",
        "Cette fonction vise à extraire des informations détaillées liées au tweet lui-même, y compris les hashtags qu'il contient. Elle retourne un dictionnaire contenant l'identifiant du tweet, la date de création, la langue, le code pays et le nom du pays (si disponibles), le type et le nom du lieu (si disponibles), les coordonnées (si disponibles), le nombre de hashtags et une liste des hashtags présents dans le tweet."
      ]
    },
    {
      "cell_type": "markdown",
      "metadata": {
        "id": "7mB0ybLtcmk4"
      },
      "source": [
        "**extract_quote_status**\n",
        "\n",
        "---\n",
        "\n",
        "\n",
        "Cette fonction extrait les informations concernant le statut cité dans un tweet (si le tweet est une citation d'un autre tweet). Elle renvoie un dictionnaire avec l'identifiant du tweet cité, l'identifiant utilisateur sous forme de chaîne de caractères et le nom d'utilisateur (screen name) de l'auteur du tweet cité."
      ]
    },
    {
      "cell_type": "markdown",
      "metadata": {
        "id": "3Jq8bKK-cuFG"
      },
      "source": [
        "**extract_user_mentions**\n",
        "\n",
        "---\n",
        "\n",
        "\n",
        "Cette fonction est conçue pour récupérer les informations relatives aux mentions d'utilisateurs dans un tweet. Elle produit un dictionnaire comprenant le nombre de mentions d'utilisateurs, une liste de leurs identifiants sous forme de chaîne de caractères, et une liste de leurs noms d'utilisateur."
      ]
    },
    {
      "cell_type": "markdown",
      "metadata": {
        "id": "Cb7GkMkQc1Lc"
      },
      "source": [
        "**extract_hashtag_retweet**\n",
        "\n",
        "---\n",
        "\n",
        "\n",
        "Cette fonction se focalise sur l'extraction des hashtags présents dans un retweet. Elle retourne un dictionnaire contenant l'identifiant du tweet original retweeté et une liste des hashtags qui y sont associés."
      ]
    },
    {
      "cell_type": "markdown",
      "metadata": {
        "id": "vfDkCC_jc6Pi"
      },
      "source": [
        "**extract_user_info**\n",
        "\n",
        "---\n",
        "\n",
        "\n",
        "Finalement, cette fonction extrait les informations liées à l'utilisateur qui a posté le tweet. Le dictionnaire retourné inclut l'identifiant de l'utilisateur, le nombre d'amis (autres utilisateurs suivis par cet utilisateur) et la date de création du compte de l'utilisateur."
      ]
    },
    {
      "cell_type": "code",
      "execution_count": 2,
      "metadata": {
        "id": "9QAU2D8HTUUl"
      },
      "outputs": [],
      "source": [
        "def extract_tweet_hashtag(tweet):\n",
        "    hashtag_info = {\n",
        "        'tweet_id': tweet.get('id'),\n",
        "        'tweet_created_at': tweet.get('created_at'),\n",
        "        'tweet_lang': tweet.get('lang'),\n",
        "        'tweet_country_code': None,\n",
        "        'tweet_country': None,\n",
        "        'tweet_place_type': None,\n",
        "        'tweet_place_name': None,\n",
        "        'tweet_coordinates': [],\n",
        "        'tweet_nbr_hashtags':None,\n",
        "        'tweet_hashtags': []\n",
        "    }\n",
        "\n",
        "    place = tweet.get('place',None)\n",
        "    if place:\n",
        "        hashtag_info.update({\n",
        "            'tweet_country_code': tweet.get('place.country_code',None),\n",
        "            'tweet_country': tweet.get('place.country',None),\n",
        "            'tweet_place_type': tweet.get('place.place_type',None),\n",
        "            'tweet_place_name': tweet.get('place.name',None),\n",
        "            'tweet_coordinates': tweet.get('place.bounding_box.coordinates',[])\n",
        "        })\n",
        "\n",
        "    hashtags = tweet.get('entities.hashtags',None)\n",
        "    if hashtags:\n",
        "        hashtag_info.update({\n",
        "            'tweet_nbr_hashtags': len(hashtags),\n",
        "            'tweet_hashtags': [hashtag['text'] for hashtag in hashtags if 'text' in hashtag]\n",
        "        })\n",
        "\n",
        "    return hashtag_info\n",
        "\n",
        "def extract_quote_status(tweet):\n",
        "    quote_status_info = {\n",
        "        'quoted_status_id_tweet':None,\n",
        "        'quote_status_id_str':None,\n",
        "        'quote_status_id_screen_name':None,\n",
        "    }\n",
        "\n",
        "    is_quote_status = tweet.get('is_quote_status',False)\n",
        "    if is_quote_status:\n",
        "        quote_status_info.update({\n",
        "            'quoted_status_id_tweet':tweet.get('quoted_status.id_str',None),\n",
        "            'quote_status_id_str': tweet.get('quoted_status.user.id_str',None),\n",
        "            'quote_status_id_screen_name': tweet.get('quoted_status.user.screen_name',None)\n",
        "        })\n",
        "\n",
        "    return quote_status_info\n",
        "\n",
        "def extract_user_mentions(tweet):\n",
        "    user_mentions_info = {\n",
        "        'user_mentions_nbr':None,\n",
        "        'user_mentions_ids_str': [],\n",
        "        'user_mentions_screen_name':[]\n",
        "    }\n",
        "\n",
        "    user_mentions = tweet.get('entities.user_mentions',None)\n",
        "    if user_mentions:\n",
        "        user_mentions_info.update({\n",
        "            'user_mentions_nbr': len(user_mentions),\n",
        "            'user_mentions_ids_str' : [mention.get('id_str') for mention in user_mentions],\n",
        "            'user_mentions_screen_name': [mention.get('screen_name') for mention in user_mentions]\n",
        "        })\n",
        "\n",
        "    return user_mentions_info\n",
        "\n",
        "def extract_hashtag_retweet(tweet):\n",
        "    retweet_info = {\n",
        "        'retweet_id': tweet.get('retweeted_status.id_str',None),\n",
        "        'retweet_hashtags':[]\n",
        "    }\n",
        "\n",
        "    hashtags_retweet = tweet.get('retweeted_status.entities.hashtags',None)\n",
        "    if hashtags_retweet:\n",
        "        retweet_info.update({\n",
        "            'retweet_hashtags_nbr': len(hashtags_retweet),\n",
        "            'retweet_hashtags': [hashtag['text'] for hashtag in hashtags_retweet if 'text' in hashtag]\n",
        "        })\n",
        "\n",
        "    return retweet_info\n",
        "\n",
        "def extract_user_info(tweet):\n",
        "    return {\n",
        "        'user_id': tweet.get('user.id',None),\n",
        "        'user_screen_name': tweet.get('user.screen_name',None),\n",
        "        'user_friends_count': tweet.get('user.friends_count',None),\n",
        "        'user_create_at': tweet.get('user.created_at',None)\n",
        "    }"
      ]
    },
    {
      "cell_type": "code",
      "execution_count": 5,
      "metadata": {
        "colab": {
          "base_uri": "https://localhost:8080/"
        },
        "id": "oCSb65x5TUUl",
        "outputId": "436312fc-5a6c-4440-8aad-fa90576bc753"
      },
      "outputs": [],
      "source": [
        "# %%time\n",
        "def convertion_json(json_object):\n",
        "    converted_json = json.loads(json_object)\n",
        "    converted_json = flatten(converted_json, reducer='dot')\n",
        "    return converted_json\n",
        "\n",
        "def readjsonfiles3(directory_path):\n",
        "    to_return = []\n",
        "    files_in_dir = os.listdir(directory_path)\n",
        "\n",
        "    for filename in files_in_dir:\n",
        "        if filename.endswith('.json'):\n",
        "            file_path = os.path.join(directory_path, filename)\n",
        "            file = open(file_path, 'r',encoding='utf-8')\n",
        "            lines = file.readlines()\n",
        "            for line in lines:\n",
        "                tweet = convertion_json(line)\n",
        "                dict_extract_user_info = extract_user_info(tweet)\n",
        "                dict_extract_tweet_hashtag = extract_tweet_hashtag(tweet)\n",
        "                dict_extract_user_mentions = extract_user_mentions(tweet)\n",
        "                dict_extract_hashtag_retweet = extract_hashtag_retweet(tweet)\n",
        "                dict_extract_quote_status = extract_quote_status(tweet)\n",
        "\n",
        "                dict_extract_concatene = {**dict_extract_user_info,\n",
        "                            **dict_extract_tweet_hashtag,\n",
        "                            **dict_extract_user_mentions,\n",
        "                            **dict_extract_hashtag_retweet,\n",
        "                            **dict_extract_quote_status}\n",
        "                to_return.append(dict_extract_concatene)\n",
        "            file.close()\n",
        "    return to_return\n",
        "\n",
        "files_directory = \"../../../../raw\"\n",
        "tweet_list_enrichi = readjsonfiles3(files_directory)"
      ]
    },
    {
      "cell_type": "markdown",
      "metadata": {
        "id": "krJCYWmc0zX5"
      },
      "source": [
        "# Interprétation des indicateurs en sortie de l'API"
      ]
    },
    {
      "cell_type": "code",
      "execution_count": null,
      "metadata": {
        "colab": {
          "base_uri": "https://localhost:8080/"
        },
        "id": "vyRiJ_TjeqBj",
        "outputId": "0e648529-15ab-4d64-92b5-668e47414302"
      },
      "outputs": [],
      "source": [
        "# Exemple d'extraction d'indicateur pour un tweet avec les fonction ci-dessus\n",
        "{'user_id': 39084553,\n",
        "  'user_friends_count': 826,\n",
        "  'user_create_at': 'Sun May 10 17:53:13 +0000 2009',\n",
        "  'tweet_id': 1007083805889449985,\n",
        "  'tweet_created_at': 'Thu Jun 14 02:14:24 +0000 2018',\n",
        "  'tweet_lang': 'en',\n",
        "  'tweet_country_code': None,\n",
        "  'tweet_country': None,\n",
        "  'tweet_place_type': None,\n",
        "  'tweet_place_name': None,\n",
        "  'tweet_coordinates': [],\n",
        "  'tweet_nbr_hashtags': 2,\n",
        "  'tweet_hashtags': ['WorldCup', 'United2026'],\n",
        "  'user_mentions_nbr': 1,\n",
        "  'user_mentions_ids_str': ['19077044'],\n",
        "  'user_mentions_screen_name': ['HoustonRockets'],\n",
        "  'retweet_id': '1006976904585498624',\n",
        "  'retweet_hashtags': ['WorldCup', 'United2026'],\n",
        "  'quoted_status_id_tweet': None,\n",
        "  'quote_status_id_str': None,\n",
        "  'quote_status_id_screen_name': None}"
      ]
    },
    {
      "cell_type": "markdown",
      "metadata": {
        "id": "DgJwJTTnfH4J"
      },
      "source": [
        "Identifiant de l'utilisateur (user_id): Le tweet a été publié par l'utilisateur ayant l'identifiant 39084553.\n",
        "\n",
        "---\n",
        "\n",
        "\n",
        "Nombre d'amis de l'utilisateur (user_friends_count): L'utilisateur avait 826 amis au moment de la publication du tweet.\n",
        "\n",
        "---\n",
        "\n",
        "\n",
        "Date de création du compte utilisateur (user_create_at): Le compte de l'utilisateur a été créé le 10 mai 2009 à 17h53 UTC.\n",
        "\n",
        "---\n",
        "\n",
        "\n",
        "Identifiant du tweet (tweet_id): L'identifiant unique de ce tweet est 1007083805889449985.\n",
        "\n",
        "---\n",
        "\n",
        "\n",
        "Date de création du tweet (tweet_created_at): Le tweet a été publié le 14 juin 2018 à 02h14 UTC.\n",
        "\n",
        "---\n",
        "\n",
        "\n",
        "Langue du tweet (tweet_lang): Le tweet est en anglais (en).\n",
        "\n",
        "---\n",
        "\n",
        "\n",
        "Code du pays et nom du pays (tweet_country_code, tweet_country): Ces informations ne sont pas disponibles pour ce tweet (None), ce qui signifie qu'il n'est pas associé à un pays spécifique.\n",
        "\n",
        "---\n",
        "\n",
        "\n",
        "Type et nom du lieu (tweet_place_type, tweet_place_name): Ces informations ne sont également pas disponibles (None), indiquant que le tweet n'a pas été publié avec des informations de localisation précises.\n",
        "\n",
        "---\n",
        "\n",
        "\n",
        "Coordonnées (tweet_coordinates): Aucune coordonnée géographique n'est associée à ce tweet, comme indiqué par une liste vide [].\n",
        "\n",
        "---\n",
        "\n",
        "\n",
        "Nombre de hashtags et hashtags utilisés (tweet_nbr_hashtags, tweet_hashtags): Le tweet contient 2 hashtags, WorldCup et United2026.\n",
        "\n",
        "---\n",
        "\n",
        "\n",
        "Nombre de mentions d'utilisateurs et informations sur ces mentions (user_mentions_nbr, user_mentions_ids_str, user_mentions_screen_name): Le tweet mentionne 1 utilisateur, avec l'identifiant 19077044 et le nom d'écran HoustonRockets.\n",
        "\n",
        "---\n",
        "\n",
        "\n",
        "Informations sur le retweet (retweet_id, retweet_hashtags): Ce tweet est un retweet de l'identifiant 1006976904585498624, et il contient les mêmes hashtags que le tweet original, à savoir WorldCup et United2026.\n",
        "\n",
        "---\n",
        "\n",
        "\n",
        "Statut de citation (quoted_status_id_tweet, quote_status_id_str, quote_status_id_screen_name): Ce tweet ne cite pas un autre tweet, comme indiqué par les valeurs None."
      ]
    },
    {
      "cell_type": "markdown",
      "metadata": {
        "id": "NkMVtLoZ0pVB"
      },
      "source": [
        "# Importation des données dans un dataframe"
      ]
    },
    {
      "cell_type": "code",
      "execution_count": 4,
      "metadata": {
        "colab": {
          "base_uri": "https://localhost:8080/",
          "height": 477
        },
        "id": "8loJnV6UTUUm",
        "outputId": "beb508fd-1628-4cf0-a474-569aeca91911"
      },
      "outputs": [
        {
          "ename": "NameError",
          "evalue": "name 'tweet_list_enrichi' is not defined",
          "output_type": "error",
          "traceback": [
            "\u001b[1;31m---------------------------------------------------------------------------\u001b[0m",
            "\u001b[1;31mNameError\u001b[0m                                 Traceback (most recent call last)",
            "Cell \u001b[1;32mIn[4], line 1\u001b[0m\n\u001b[1;32m----> 1\u001b[0m df_initial \u001b[38;5;241m=\u001b[39m pd\u001b[38;5;241m.\u001b[39mDataFrame(\u001b[43mtweet_list_enrichi\u001b[49m)\n\u001b[0;32m      2\u001b[0m df_initial[\u001b[38;5;124m'\u001b[39m\u001b[38;5;124mtweet_created_at\u001b[39m\u001b[38;5;124m'\u001b[39m] \u001b[38;5;241m=\u001b[39m pd\u001b[38;5;241m.\u001b[39mto_datetime(df_initial[\u001b[38;5;124m'\u001b[39m\u001b[38;5;124mtweet_created_at\u001b[39m\u001b[38;5;124m'\u001b[39m], \u001b[38;5;28mformat\u001b[39m\u001b[38;5;241m=\u001b[39m\u001b[38;5;124m'\u001b[39m\u001b[38;5;132;01m%a\u001b[39;00m\u001b[38;5;124m \u001b[39m\u001b[38;5;124m%\u001b[39m\u001b[38;5;124mb \u001b[39m\u001b[38;5;132;01m%d\u001b[39;00m\u001b[38;5;124m \u001b[39m\u001b[38;5;124m%\u001b[39m\u001b[38;5;124mH:\u001b[39m\u001b[38;5;124m%\u001b[39m\u001b[38;5;124mM:\u001b[39m\u001b[38;5;124m%\u001b[39m\u001b[38;5;124mS +0000 \u001b[39m\u001b[38;5;124m%\u001b[39m\u001b[38;5;124mY\u001b[39m\u001b[38;5;124m'\u001b[39m)\n\u001b[0;32m      3\u001b[0m \u001b[38;5;66;03m# df_initial = pd.read_csv(\"generated_dataframe.csv\", sep=\",\", header=0)\u001b[39;00m\n",
            "\u001b[1;31mNameError\u001b[0m: name 'tweet_list_enrichi' is not defined"
          ]
        }
      ],
      "source": [
        "df_initial = pd.DataFrame(tweet_list_enrichi)\n",
        "df_initial['tweet_created_at'] = pd.to_datetime(df_initial['tweet_created_at'], format='%a %b %d %H:%M:%S +0000 %Y')\n",
        "# df_initial = pd.read_csv(\"generated_dataframe.csv\", sep=\",\", header=0)\n",
        "df_initial.set_index('tweet_created_at', inplace=True)\n",
        "print(df_initial.shape)\n",
        "df_initial.head()"
      ]
    },
    {
      "cell_type": "code",
      "execution_count": null,
      "metadata": {},
      "outputs": [],
      "source": [
        "df_initial[\"user_screen_name\"] = df_initial[\"user_screen_name\"].astype(str)"
      ]
    },
    {
      "cell_type": "markdown",
      "metadata": {
        "id": "lJSiHL6SY_io"
      },
      "source": [
        "## Exploration"
      ]
    },
    {
      "cell_type": "code",
      "execution_count": null,
      "metadata": {
        "id": "wtXMlUSpX94e"
      },
      "outputs": [],
      "source": [
        "df = df_initial.copy()\n",
        "# Mettre en minuscule tous les hashtags et user mentions avant le filtrage\n",
        "df['user_screen_name'] = df['user_screen_name'].apply(lambda x: x.lower())\n",
        "df['tweet_hashtags'] = df['tweet_hashtags'].apply(lambda x: [tag.lower() for tag in x])\n",
        "df['user_mentions_screen_name'] = df['user_mentions_screen_name'].apply(lambda x: [tag.lower() for tag in x])\n",
        "df['retweet_hashtags'] = df['retweet_hashtags'].apply(lambda x: [tag.lower() for tag in x])"
      ]
    },
    {
      "cell_type": "code",
      "execution_count": null,
      "metadata": {
        "colab": {
          "base_uri": "https://localhost:8080/"
        },
        "id": "KdrFii9C8EB3",
        "outputId": "28fc6785-26bf-40a9-c8c4-8b186d6fe36d"
      },
      "outputs": [],
      "source": [
        "all_hashtags_tweet = pd.Series([hashtag for sublist in df['tweet_hashtags'].dropna() for hashtag in sublist])\n",
        "all_hashtags_tweet.reset_index(drop=True, inplace=True)\n",
        "hashtag_tweet_frequence = all_hashtags_tweet.value_counts().sort_values(ascending = False)[:50] # top 50 des hashtags utilisés dans les tweets\n",
        "print(hashtag_tweet_frequence)\n",
        "hashtags_plot = list(hashtag_tweet_frequence.index)"
      ]
    },
    {
      "cell_type": "code",
      "execution_count": null,
      "metadata": {
        "colab": {
          "base_uri": "https://localhost:8080/",
          "height": 557
        },
        "id": "CYkK-oe8Z4IO",
        "outputId": "0d2b0fcc-3351-482d-c246-5c8fa3e20644"
      },
      "outputs": [],
      "source": [
        "hashtag_tweet_frequence.plot(kind='bar')\n",
        "plt.title('Top 50 des hashtags utilisés dans les tweets')\n",
        "plt.xlabel('Hashtags tweet')\n",
        "plt.ylabel('Fréquence')\n",
        "plt.xticks(rotation=90, fontsize=7)\n",
        "plt.show()"
      ]
    },
    {
      "cell_type": "code",
      "execution_count": null,
      "metadata": {
        "colab": {
          "base_uri": "https://localhost:8080/"
        },
        "id": "7IGtIhwZMbRW",
        "outputId": "f8bf09d2-0f7f-4051-f0ab-9faa7fa4cafb"
      },
      "outputs": [],
      "source": [
        "all_hashtags_retweet = pd.Series([hashtag for sublist in df['retweet_hashtags'].dropna() for hashtag in sublist])\n",
        "all_hashtags_retweet.reset_index(drop=True, inplace=True)\n",
        "hashtag_retweet_frequence = all_hashtags_retweet.value_counts().sort_values(ascending = False)[:50] # top 50 des hashtags utilisés dans les retweets\n",
        "print(hashtag_retweet_frequence)\n",
        "hashtags_plot = list(hashtag_retweet_frequence.index)"
      ]
    },
    {
      "cell_type": "code",
      "execution_count": null,
      "metadata": {
        "colab": {
          "base_uri": "https://localhost:8080/",
          "height": 557
        },
        "id": "7LG6ZY9_NB7Y",
        "outputId": "ef20eeca-a360-4975-92b9-fa0608dec273"
      },
      "outputs": [],
      "source": [
        "hashtag_retweet_frequence.plot(kind='bar')\n",
        "plt.title('Top 50 des hashtags utilisés dans les retweets')\n",
        "plt.xlabel('Hashtags retweet')\n",
        "plt.ylabel('Fréquence')\n",
        "plt.xticks(rotation=90, fontsize=7)\n",
        "plt.show()"
      ]
    },
    {
      "cell_type": "code",
      "execution_count": null,
      "metadata": {
        "colab": {
          "base_uri": "https://localhost:8080/"
        },
        "id": "s4TVZEkkNGig",
        "outputId": "85babca7-84b3-413a-82e4-cea313f63cd6"
      },
      "outputs": [],
      "source": [
        "all_user_tweet = pd.Series([user for user in df['user_screen_name'].dropna()])\n",
        "all_user_tweet.reset_index(drop=True, inplace=True)\n",
        "user_tweet_frequence = all_user_tweet.value_counts().sort_values(ascending = False)[:50] # top 50 des users qui publient le plus de tweet\n",
        "print(user_tweet_frequence)\n",
        "hashtags_plot = list(user_tweet_frequence.index)"
      ]
    },
    {
      "cell_type": "code",
      "execution_count": null,
      "metadata": {
        "colab": {
          "base_uri": "https://localhost:8080/",
          "height": 544
        },
        "id": "8Mqz_EAONbPG",
        "outputId": "25e6d3ea-4684-4e33-fb7e-e32634858109"
      },
      "outputs": [],
      "source": [
        "user_tweet_frequence.plot(kind='bar')\n",
        "plt.title('Top 50 des users qui publient le plus de tweet')\n",
        "plt.xlabel('users')\n",
        "plt.ylabel('Fréquence')\n",
        "plt.xticks(rotation=90, fontsize=7)\n",
        "plt.show()"
      ]
    },
    {
      "cell_type": "code",
      "execution_count": null,
      "metadata": {
        "colab": {
          "base_uri": "https://localhost:8080/"
        },
        "id": "OiaLgri4Tlkn",
        "outputId": "7dc8b32c-e125-401f-e261-e3b05acc5807"
      },
      "outputs": [],
      "source": [
        "users_plus_actif = df['user_screen_name'].value_counts().head(50).index # top 50 des users qui publient le plus de tweet\n",
        "df_filtre_user_plus_actif = df[df['user_screen_name'].isin(users_plus_actif)]\n",
        "df_nbr_moyen_hashtags_user = df_filtre_user_plus_actif.groupby('user_screen_name')['tweet_nbr_hashtags'].mean()\n",
        "print(df_nbr_moyen_hashtags_user)"
      ]
    },
    {
      "cell_type": "code",
      "execution_count": null,
      "metadata": {
        "colab": {
          "base_uri": "https://localhost:8080/",
          "height": 544
        },
        "id": "nRNYTCN5g4Lg",
        "outputId": "f0eecd31-521f-4f1f-b3fa-7f073a4405f0"
      },
      "outputs": [],
      "source": [
        "df_nbr_moyen_hashtags_user.plot(kind='bar')\n",
        "plt.title('Nombre de hashtags moyen dans les tweets des 50 users les plus actifs')\n",
        "plt.xlabel('users')\n",
        "plt.ylabel('Fréquence')\n",
        "plt.xticks(rotation=90, fontsize=7)\n",
        "plt.show()"
      ]
    },
    {
      "cell_type": "markdown",
      "metadata": {
        "id": "zuc457zk0hPZ"
      },
      "source": [
        "## Préparation des données"
      ]
    },
    {
      "cell_type": "code",
      "execution_count": null,
      "metadata": {
        "colab": {
          "base_uri": "https://localhost:8080/",
          "height": 477
        },
        "id": "-2gQYzEFa12R",
        "outputId": "91dfe5a7-881a-43ca-af78-bc3c77a1bfe2"
      },
      "outputs": [],
      "source": [
        "df_filtre = df.copy()\n",
        "# Filtrer les lignes pour exclure les tweets contenant worldcup dans les hashtags de tweets ou de retweets\n",
        "df_filtre = df_filtre[\n",
        "    ~(\n",
        "        df_filtre['tweet_hashtags'].apply(lambda x: any('worldcup' in tag.lower() for tag in x)) |\n",
        "        df_filtre['retweet_hashtags'].apply(lambda x: any('worldcup' in tag.lower() for tag in x))\n",
        "    )\n",
        "]\n",
        "print(df_filtre.shape)\n",
        "df_filtre.head()"
      ]
    },
    {
      "cell_type": "markdown",
      "metadata": {
        "id": "miQcosw9jmPt"
      },
      "source": [
        "### Préparation des données"
      ]
    },
    {
      "cell_type": "code",
      "execution_count": null,
      "metadata": {
        "colab": {
          "base_uri": "https://localhost:8080/"
        },
        "id": "xhK5Xdaf87To",
        "outputId": "864a71a2-2d7c-493f-d87e-49035b9ff00c"
      },
      "outputs": [],
      "source": [
        "df_preparation= df_filtre.copy()\n",
        "\n",
        "# Transformation des listes en chaînes séparées par des espaces pour TF-IDF\n",
        "vectorizer = TfidfVectorizer()\n",
        "\n",
        "df_preparation['hashtags_str'] = df_preparation['tweet_hashtags'].apply(lambda x: ' '.join(x))\n",
        "df_preparation['user_mentions_str'] = df_preparation['user_mentions_screen_name'].apply(lambda x: ' '.join(x))\n",
        "df_preparation['retweet_hashtags_str'] = df_preparation['retweet_hashtags'].apply(lambda x: ' '.join(x))\n",
        "\n",
        "X_hashtags = vectorizer.fit_transform(df_preparation['hashtags_str'])\n",
        "X_user_mentions = vectorizer.fit_transform(df_preparation['user_mentions_str'])\n",
        "X_retweet_hashtags = vectorizer.fit_transform(df_preparation['retweet_hashtags_str'])\n",
        "\n",
        "# Encodage les variables temporelles\n",
        "df_preparation['year_month'] = df_preparation.index.month\n",
        "df_preparation['hour'] = df_preparation.index.hour\n",
        "df_preparation['minute'] = df_preparation.index.minute\n",
        "df_preparation['second'] = df_preparation.index.second\n",
        "\n",
        "# Cyclisation des mois (12 mois dans une année)\n",
        "df_preparation['month_sin'] = np.sin(2 * np.pi * df_preparation['year_month'] / 12)\n",
        "df_preparation['month_cos'] = np.cos(2 * np.pi * df_preparation['year_month'] / 12)\n",
        "\n",
        "# Cyclisation des heures (24 heures dans une journée)\n",
        "df_preparation['hour_sin'] = np.sin(2 * np.pi * df_preparation['hour'] / 24)\n",
        "df_preparation['hour_cos'] = np.cos(2 * np.pi * df_preparation['hour'] / 24)\n",
        "\n",
        "# Cyclisation des minutes (60 minutes dans une heure)\n",
        "df_preparation['minute_sin'] = np.sin(2 * np.pi * df_preparation['minute'] / 60)\n",
        "df_preparation['minute_cos'] = np.cos(2 * np.pi * df_preparation['minute'] / 60)\n",
        "\n",
        "# Cyclisation des secondes (60 secondes dans une minutes)\n",
        "df_preparation['second_sin'] = np.sin(2 * np.pi * df_preparation['second'] / 60)\n",
        "df_preparation['second_cos'] = np.cos(2 * np.pi * df_preparation['second'] / 60)\n",
        "\n",
        "temporal_features = ['month_sin', 'month_cos', 'hour_sin', 'hour_cos', 'minute_sin', 'minute_cos', 'second_sin', 'second_cos']\n",
        "X_temporal = csr_matrix(df_preparation[temporal_features].values)\n",
        "\n",
        "# Combinaison des embeddings tf-idfet des encodages temporels\n",
        "X_combined = hstack([X_hashtags, X_user_mentions, X_retweet_hashtags, X_temporal])\n",
        "print(X_combined.shape)"
      ]
    }
  ],
  "metadata": {
    "accelerator": "GPU",
    "colab": {
      "gpuType": "T4",
      "machine_shape": "hm",
      "provenance": []
    },
    "kernelspec": {
      "display_name": "Python 3",
      "name": "python3"
    },
    "language_info": {
      "codemirror_mode": {
        "name": "ipython",
        "version": 3
      },
      "file_extension": ".py",
      "mimetype": "text/x-python",
      "name": "python",
      "nbconvert_exporter": "python",
      "pygments_lexer": "ipython3",
      "version": "3.11.5"
    }
  },
  "nbformat": 4,
  "nbformat_minor": 0
}
